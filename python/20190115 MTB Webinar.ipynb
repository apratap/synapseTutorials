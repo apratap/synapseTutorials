{
 "cells": [
  {
   "cell_type": "markdown",
   "metadata": {},
   "source": [
    "<img src=\"files/images/Synapse_newLogo.png\" width=\"200\" height=\"260\" align=\"left\"/>\n",
    "<br>\n",
    "<br>\n",
    "\n",
    "### MTB Webinar Jan 15, 2019\n",
    "_Abhi Pratap & Larsson Omberg_\n",
    "\n",
    "#### Goals \n",
    "\n",
    "_Section I_\n",
    "* Explore a simple survey data and associated metadata collected and stored in synapse\n",
    "\n",
    "_Section II_\n",
    "* Score the survey and store results back in synapse"
   ]
  },
  {
   "cell_type": "markdown",
   "metadata": {},
   "source": [
    "### Section I"
   ]
  },
  {
   "cell_type": "markdown",
   "metadata": {},
   "source": [
    "#### 1. Connect and log-in to the system\n",
    "[More details](https://python-docs.synapse.org/build/html/index.html)"
   ]
  },
  {
   "cell_type": "code",
   "execution_count": 1,
   "metadata": {
    "scrolled": true
   },
   "outputs": [
    {
     "name": "stdout",
     "output_type": "stream",
     "text": [
      "Welcome, Abhishek Pratap!\n",
      "\n",
      "1.9.0\n"
     ]
    }
   ],
   "source": [
    "import synapseclient\n",
    "syn = synapseclient.login()\n",
    "print(synapseclient.__version__)"
   ]
  },
  {
   "cell_type": "markdown",
   "metadata": {},
   "source": [
    "For demo purposes we will explore the data from a recent mobile study that used three short form versions of Neuro-QOLs. Specifically we will look at the 8-item Neuro-QOL survey for the Lower Extremity.\n",
    "[Explore data on synapse](https://www.synapse.org/#!Synapse:syn10142944/tables/)"
   ]
  },
  {
   "cell_type": "markdown",
   "metadata": {},
   "source": [
    "#### 2. Fetch raw data and meta data from Synapse  "
   ]
  },
  {
   "cell_type": "code",
   "execution_count": 2,
   "metadata": {},
   "outputs": [],
   "source": [
    "nQOL_lowExt_res = syn.tableQuery(\"select * from syn10142944\")\n",
    "nQOL_lowExt = nQOL_lowExt_res.asDataFrame()"
   ]
  },
  {
   "cell_type": "markdown",
   "metadata": {},
   "source": [
    "#### Explore meta-data\n",
    "\n",
    "| meta-data | Description |\n",
    "|-----------|-------------|\n",
    "| recordId  | unique record locator for each survey completed |\n",
    "| appVersion| version of the app used |\n",
    "| phoneInfo | device information |\n",
    "| uploadDate| date the activity data got uploaded to the Synapse (via-Brige)|\n",
    "| healthCode| Unique user-id |\n",
    "| externalId| any external reference number |\n",
    "| dataGroups| Case vs Control |\n",
    "| createdOn | time when the user completed the activity|\n",
    "| createdOnTimeZone | time zone of the user when the activity was completed|\n"
   ]
  },
  {
   "cell_type": "code",
   "execution_count": 3,
   "metadata": {},
   "outputs": [
    {
     "data": {
      "text/html": [
       "<div>\n",
       "<style scoped>\n",
       "    .dataframe tbody tr th:only-of-type {\n",
       "        vertical-align: middle;\n",
       "    }\n",
       "\n",
       "    .dataframe tbody tr th {\n",
       "        vertical-align: top;\n",
       "    }\n",
       "\n",
       "    .dataframe thead th {\n",
       "        text-align: right;\n",
       "    }\n",
       "</style>\n",
       "<table border=\"1\" class=\"dataframe\">\n",
       "  <thead>\n",
       "    <tr style=\"text-align: right;\">\n",
       "      <th></th>\n",
       "      <th>recordId</th>\n",
       "      <th>appVersion</th>\n",
       "      <th>phoneInfo</th>\n",
       "      <th>uploadDate</th>\n",
       "      <th>healthCode</th>\n",
       "      <th>externalId</th>\n",
       "      <th>dataGroups</th>\n",
       "      <th>createdOn</th>\n",
       "      <th>createdOnTimeZone</th>\n",
       "      <th>userSharingScope</th>\n",
       "      <th>validationErrors</th>\n",
       "      <th>01_toilet</th>\n",
       "      <th>02_curbs</th>\n",
       "      <th>03_car</th>\n",
       "      <th>04_bed</th>\n",
       "      <th>05_heavy_door</th>\n",
       "      <th>06_errands</th>\n",
       "      <th>07_off_floor</th>\n",
       "      <th>08_walk</th>\n",
       "      <th>rawData</th>\n",
       "    </tr>\n",
       "  </thead>\n",
       "  <tbody>\n",
       "    <tr>\n",
       "      <th>0_0</th>\n",
       "      <td>2e03d4dc-3cf3-431d-aa49-f38117188438</td>\n",
       "      <td>version 1.0.0, build 1</td>\n",
       "      <td>Unknown iOS device; iOS/10.3.1</td>\n",
       "      <td>2017-06-24</td>\n",
       "      <td>544e9e70-d984-4712-9001-957bc3140f16</td>\n",
       "      <td>NaN</td>\n",
       "      <td>control,test_user</td>\n",
       "      <td>1498230833582</td>\n",
       "      <td>-400</td>\n",
       "      <td>ALL_QUALIFIED_RESEARCHERS</td>\n",
       "      <td>NaN</td>\n",
       "      <td>3</td>\n",
       "      <td>3</td>\n",
       "      <td>3</td>\n",
       "      <td>3</td>\n",
       "      <td>3</td>\n",
       "      <td>3</td>\n",
       "      <td>3</td>\n",
       "      <td>3</td>\n",
       "      <td>NaN</td>\n",
       "    </tr>\n",
       "    <tr>\n",
       "      <th>1_1</th>\n",
       "      <td>1decba13-43fd-4433-a7a5-208cfa1786f0</td>\n",
       "      <td>version 1.0.0, build 26</td>\n",
       "      <td>Unknown iOS device; iOS/11.0</td>\n",
       "      <td>2017-08-24</td>\n",
       "      <td>22cf36f5-6ca6-463b-bc31-4887b5e22481</td>\n",
       "      <td>NaN</td>\n",
       "      <td>ms_patient</td>\n",
       "      <td>1503512353880</td>\n",
       "      <td>-700</td>\n",
       "      <td>ALL_QUALIFIED_RESEARCHERS</td>\n",
       "      <td>NaN</td>\n",
       "      <td>1</td>\n",
       "      <td>2</td>\n",
       "      <td>3</td>\n",
       "      <td>1</td>\n",
       "      <td>1</td>\n",
       "      <td>4</td>\n",
       "      <td>3</td>\n",
       "      <td>3</td>\n",
       "      <td>NaN</td>\n",
       "    </tr>\n",
       "    <tr>\n",
       "      <th>2_2</th>\n",
       "      <td>8e29fe52-b4da-49d1-9220-99c914611fbd</td>\n",
       "      <td>version 1.0.0, build 26</td>\n",
       "      <td>Unknown iOS device; iOS/10.3.3</td>\n",
       "      <td>2017-08-29</td>\n",
       "      <td>78fe123e-db5d-4654-88af-8e39cb56b90e</td>\n",
       "      <td>NaN</td>\n",
       "      <td>ms_patient</td>\n",
       "      <td>1503924158985</td>\n",
       "      <td>-400</td>\n",
       "      <td>ALL_QUALIFIED_RESEARCHERS</td>\n",
       "      <td>NaN</td>\n",
       "      <td>2</td>\n",
       "      <td>2</td>\n",
       "      <td>3</td>\n",
       "      <td>2</td>\n",
       "      <td>4</td>\n",
       "      <td>3</td>\n",
       "      <td>2</td>\n",
       "      <td>4</td>\n",
       "      <td>NaN</td>\n",
       "    </tr>\n",
       "    <tr>\n",
       "      <th>3_3</th>\n",
       "      <td>5dbc327c-4815-4759-ad1d-3b1dcfd41b56</td>\n",
       "      <td>version 1.0.0, build 26</td>\n",
       "      <td>Unknown iOS device; iOS/10.3.3</td>\n",
       "      <td>2017-09-01</td>\n",
       "      <td>78fe123e-db5d-4654-88af-8e39cb56b90e</td>\n",
       "      <td>NaN</td>\n",
       "      <td>ms_patient</td>\n",
       "      <td>1504214594516</td>\n",
       "      <td>-400</td>\n",
       "      <td>ALL_QUALIFIED_RESEARCHERS</td>\n",
       "      <td>NaN</td>\n",
       "      <td>2</td>\n",
       "      <td>3</td>\n",
       "      <td>3</td>\n",
       "      <td>3</td>\n",
       "      <td>4</td>\n",
       "      <td>3</td>\n",
       "      <td>2</td>\n",
       "      <td>2</td>\n",
       "      <td>NaN</td>\n",
       "    </tr>\n",
       "    <tr>\n",
       "      <th>4_3</th>\n",
       "      <td>096e0921-69ea-40c3-8902-059c6c72549a</td>\n",
       "      <td>version 1.0.0, build 26</td>\n",
       "      <td>Unknown iOS device; iOS/10.3.3</td>\n",
       "      <td>2017-09-01</td>\n",
       "      <td>405df1ec-4879-43bb-b28c-f7bd9ea775e4</td>\n",
       "      <td>NaN</td>\n",
       "      <td>ms_patient</td>\n",
       "      <td>1504216193629</td>\n",
       "      <td>-600</td>\n",
       "      <td>ALL_QUALIFIED_RESEARCHERS</td>\n",
       "      <td>NaN</td>\n",
       "      <td>3</td>\n",
       "      <td>3</td>\n",
       "      <td>3</td>\n",
       "      <td>3</td>\n",
       "      <td>2</td>\n",
       "      <td>2</td>\n",
       "      <td>3</td>\n",
       "      <td>2</td>\n",
       "      <td>NaN</td>\n",
       "    </tr>\n",
       "  </tbody>\n",
       "</table>\n",
       "</div>"
      ],
      "text/plain": [
       "                                 recordId               appVersion  \\\n",
       "0_0  2e03d4dc-3cf3-431d-aa49-f38117188438   version 1.0.0, build 1   \n",
       "1_1  1decba13-43fd-4433-a7a5-208cfa1786f0  version 1.0.0, build 26   \n",
       "2_2  8e29fe52-b4da-49d1-9220-99c914611fbd  version 1.0.0, build 26   \n",
       "3_3  5dbc327c-4815-4759-ad1d-3b1dcfd41b56  version 1.0.0, build 26   \n",
       "4_3  096e0921-69ea-40c3-8902-059c6c72549a  version 1.0.0, build 26   \n",
       "\n",
       "                          phoneInfo  uploadDate  \\\n",
       "0_0  Unknown iOS device; iOS/10.3.1  2017-06-24   \n",
       "1_1    Unknown iOS device; iOS/11.0  2017-08-24   \n",
       "2_2  Unknown iOS device; iOS/10.3.3  2017-08-29   \n",
       "3_3  Unknown iOS device; iOS/10.3.3  2017-09-01   \n",
       "4_3  Unknown iOS device; iOS/10.3.3  2017-09-01   \n",
       "\n",
       "                               healthCode  externalId         dataGroups  \\\n",
       "0_0  544e9e70-d984-4712-9001-957bc3140f16         NaN  control,test_user   \n",
       "1_1  22cf36f5-6ca6-463b-bc31-4887b5e22481         NaN         ms_patient   \n",
       "2_2  78fe123e-db5d-4654-88af-8e39cb56b90e         NaN         ms_patient   \n",
       "3_3  78fe123e-db5d-4654-88af-8e39cb56b90e         NaN         ms_patient   \n",
       "4_3  405df1ec-4879-43bb-b28c-f7bd9ea775e4         NaN         ms_patient   \n",
       "\n",
       "         createdOn  createdOnTimeZone           userSharingScope  \\\n",
       "0_0  1498230833582               -400  ALL_QUALIFIED_RESEARCHERS   \n",
       "1_1  1503512353880               -700  ALL_QUALIFIED_RESEARCHERS   \n",
       "2_2  1503924158985               -400  ALL_QUALIFIED_RESEARCHERS   \n",
       "3_3  1504214594516               -400  ALL_QUALIFIED_RESEARCHERS   \n",
       "4_3  1504216193629               -600  ALL_QUALIFIED_RESEARCHERS   \n",
       "\n",
       "     validationErrors  01_toilet  02_curbs  03_car  04_bed  05_heavy_door  \\\n",
       "0_0               NaN          3         3       3       3              3   \n",
       "1_1               NaN          1         2       3       1              1   \n",
       "2_2               NaN          2         2       3       2              4   \n",
       "3_3               NaN          2         3       3       3              4   \n",
       "4_3               NaN          3         3       3       3              2   \n",
       "\n",
       "     06_errands  07_off_floor  08_walk  rawData  \n",
       "0_0           3             3        3      NaN  \n",
       "1_1           4             3        3      NaN  \n",
       "2_2           3             2        4      NaN  \n",
       "3_3           3             2        2      NaN  \n",
       "4_3           2             3        2      NaN  "
      ]
     },
     "execution_count": 3,
     "metadata": {},
     "output_type": "execute_result"
    }
   ],
   "source": [
    "nQOL_lowExt.head()"
   ]
  },
  {
   "cell_type": "markdown",
   "metadata": {},
   "source": [
    "#### Basic Summary \n",
    "Number of surveys completed per user"
   ]
  },
  {
   "cell_type": "code",
   "execution_count": 5,
   "metadata": {},
   "outputs": [
    {
     "data": {
      "text/plain": [
       "<matplotlib.axes._subplots.AxesSubplot at 0x120b3b390>"
      ]
     },
     "execution_count": 5,
     "metadata": {},
     "output_type": "execute_result"
    },
    {
     "data": {
      "image/png": "[encoded data removed]",
      "text/plain": [
       "<Figure size 432x288 with 1 Axes>"
      ]
     },
     "metadata": {
      "needs_background": "light"
     },
     "output_type": "display_data"
    }
   ],
   "source": [
    "nQOL_lowExt.groupby(['healthCode']).size().hist()"
   ]
  },
  {
   "cell_type": "markdown",
   "metadata": {},
   "source": [
    "#### Explore more granular item level meta-data for surveys"
   ]
  },
  {
   "cell_type": "code",
   "execution_count": 6,
   "metadata": {},
   "outputs": [
    {
     "name": "stderr",
     "output_type": "stream",
     "text": [
      "[WARNING] /Users/apratap/anaconda3/lib/python3.6/site-packages/synapseclient/client.py:3261: UserWarning: Weird file handle: None\n",
      "  warnings.warn(\"Weird file handle: %s\" % file_handle_id)\n",
      "\n"
     ]
    },
    {
     "name": "stdout",
     "output_type": "stream",
     "text": [
      "Downloading 0 files, 107 cached locally\n"
     ]
    },
    {
     "data": {
      "text/plain": [
       "'/Users/apratap/.synapseCache/803/35477803/ef333e57-dcfc-4c6b-abe2-a858caebf879-raw.zip'"
      ]
     },
     "execution_count": 6,
     "metadata": {},
     "output_type": "execute_result"
    }
   ],
   "source": [
    "rawData = syn.downloadTableColumns(nQOL_lowExt_res, 'rawData')\n",
    "surveySpecificResponse = rawData.popitem()[1]\n",
    "surveySpecificResponse"
   ]
  },
  {
   "cell_type": "code",
   "execution_count": 7,
   "metadata": {},
   "outputs": [
    {
     "name": "stdout",
     "output_type": "stream",
     "text": [
      "File Name                                             Modified             Size\n",
      "01_toilet.json                                 2019-01-10 09:12:36          266\n",
      "02_curbs.json                                  2019-01-10 09:12:36          264\n",
      "03_car.json                                    2019-01-10 09:12:36          260\n",
      "04_bed.json                                    2019-01-10 09:12:36          260\n",
      "05_heavy_door.json                             2019-01-10 09:12:36          274\n",
      "06_errands.json                                2019-01-10 09:12:36          268\n",
      "07_off_floor.json                              2019-01-10 09:12:36          272\n",
      "08_walk.json                                   2019-01-10 09:12:36          262\n",
      "metadata.json                                  2019-01-10 09:12:36          443\n",
      "info.json                                      2019-01-10 09:12:36         1619\n"
     ]
    }
   ],
   "source": [
    "from zipfile import ZipFile\n",
    "with ZipFile(surveySpecificResponse, 'r') as zip:\n",
    "    zip.printdir()\n",
    "    zip.extractall()"
   ]
  },
  {
   "cell_type": "code",
   "execution_count": 8,
   "metadata": {},
   "outputs": [
    {
     "name": "stdout",
     "output_type": "stream",
     "text": [
      "{\r\n",
      "  \"questionType\" : 2,\r\n",
      "  \"startDate\" : \"2019-01-10T09:11:16.059-08:00\",\r\n",
      "  \"questionTypeName\" : \"SingleChoice\",\r\n",
      "  \"item\" : \"01_toilet\",\r\n",
      "  \"endDate\" : \"2019-01-10T09:11:39.597-08:00\",\r\n",
      "  \"answer\" : \"1\",\r\n",
      "  \"choiceAnswers\" : [\r\n",
      "    \"1\"\r\n",
      "  ],\r\n",
      "  \"identifier\" : \"01_toilet\"\r\n",
      "}"
     ]
    }
   ],
   "source": [
    "! cat 01_toilet.json"
   ]
  },
  {
   "cell_type": "code",
   "execution_count": 9,
   "metadata": {},
   "outputs": [
    {
     "name": "stdout",
     "output_type": "stream",
     "text": [
      "{\r\n",
      "  \"appVersion\" : \"version 1.1.0, build 27\",\r\n",
      "  \"appName\" : \"elevateMS\",\r\n",
      "  \"schemaRevision\" : 1,\r\n",
      "  \"phoneInfo\" : \"Unknown iOS device; iOS\\/12.1.2\",\r\n",
      "  \"surveyCreatedOn\" : \"2017-05-15T13:12:30.784-07:00\",\r\n",
      "  \"surveyGuid\" : \"08f4c525-2040-4069-aa4e-925dab20c8f0\",\r\n",
      "  \"files\" : [\r\n",
      "    {\r\n",
      "      \"contentType\" : \"application\\/json\",\r\n",
      "      \"filename\" : \"01_toilet.json\",\r\n",
      "      \"timestamp\" : \"2019-01-10T09:11:16.059-08:00\"\r\n",
      "    },\r\n",
      "    {\r\n",
      "      \"contentType\" : \"application\\/json\",\r\n",
      "      \"filename\" : \"02_curbs.json\",\r\n",
      "      \"timestamp\" : \"2019-01-10T09:11:39.624-08:00\"\r\n",
      "    },\r\n",
      "    {\r\n",
      "      \"contentType\" : \"application\\/json\",\r\n",
      "      \"filename\" : \"03_car.json\",\r\n",
      "      \"timestamp\" : \"2019-01-10T09:11:48.858-08:00\"\r\n",
      "    },\r\n",
      "    {\r\n",
      "      \"contentType\" : \"application\\/json\",\r\n",
      "      \"filename\" : \"04_bed.json\",\r\n",
      "      \"timestamp\" : \"2019-01-10T09:11:55.325-08:00\"\r\n",
      "    },\r\n",
      "    {\r\n",
      "      \"contentType\" : \"application\\/json\",\r\n",
      "      \"filename\" : \"05_heavy_door.json\",\r\n",
      "      \"timestamp\" : \"2019-01-10T09:12:03.343-08:00\"\r\n",
      "    },\r\n",
      "    {\r\n",
      "      \"contentType\" : \"application\\/json\",\r\n",
      "      \"filename\" : \"06_errands.json\",\r\n",
      "      \"timestamp\" : \"2019-01-10T09:12:11.744-08:00\"\r\n",
      "    },\r\n",
      "    {\r\n",
      "      \"contentType\" : \"application\\/json\",\r\n",
      "      \"filename\" : \"07_off_floor.json\",\r\n",
      "      \"timestamp\" : \"2019-01-10T09:12:17.678-08:00\"\r\n",
      "    },\r\n",
      "    {\r\n",
      "      \"contentType\" : \"application\\/json\",\r\n",
      "      \"filename\" : \"08_walk.json\",\r\n",
      "      \"timestamp\" : \"2019-01-10T09:12:28.196-08:00\"\r\n",
      "    },\r\n",
      "    {\r\n",
      "      \"contentType\" : \"application\\/json\",\r\n",
      "      \"filename\" : \"metadata.json\",\r\n",
      "      \"timestamp\" : \"2019-01-10T09:10:56.555-08:00\"\r\n",
      "    }\r\n",
      "  ],\r\n",
      "  \"item\" : \"NeuroQOL-LowerExtremity\"\r\n",
      "}"
     ]
    }
   ],
   "source": [
    "! cat info.json"
   ]
  },
  {
   "cell_type": "code",
   "execution_count": 17,
   "metadata": {},
   "outputs": [],
   "source": [
    "### CLEAN UP\n",
    "! rm -rf *.json"
   ]
  },
  {
   "cell_type": "markdown",
   "metadata": {},
   "source": [
    "### Section II "
   ]
  },
  {
   "cell_type": "markdown",
   "metadata": {},
   "source": [
    "#### 1. Score the NeuroQoL "
   ]
  },
  {
   "cell_type": "code",
   "execution_count": 10,
   "metadata": {},
   "outputs": [
    {
     "data": {
      "text/html": [
       "<div>\n",
       "<style scoped>\n",
       "    .dataframe tbody tr th:only-of-type {\n",
       "        vertical-align: middle;\n",
       "    }\n",
       "\n",
       "    .dataframe tbody tr th {\n",
       "        vertical-align: top;\n",
       "    }\n",
       "\n",
       "    .dataframe thead th {\n",
       "        text-align: right;\n",
       "    }\n",
       "</style>\n",
       "<table border=\"1\" class=\"dataframe\">\n",
       "  <thead>\n",
       "    <tr style=\"text-align: right;\">\n",
       "      <th></th>\n",
       "      <th>01_toilet</th>\n",
       "      <th>02_curbs</th>\n",
       "      <th>03_car</th>\n",
       "      <th>04_bed</th>\n",
       "      <th>05_heavy_door</th>\n",
       "      <th>06_errands</th>\n",
       "      <th>07_off_floor</th>\n",
       "      <th>08_walk</th>\n",
       "    </tr>\n",
       "  </thead>\n",
       "  <tbody>\n",
       "    <tr>\n",
       "      <th>0_0</th>\n",
       "      <td>3</td>\n",
       "      <td>3</td>\n",
       "      <td>3</td>\n",
       "      <td>3</td>\n",
       "      <td>3</td>\n",
       "      <td>3</td>\n",
       "      <td>3</td>\n",
       "      <td>3</td>\n",
       "    </tr>\n",
       "    <tr>\n",
       "      <th>1_1</th>\n",
       "      <td>1</td>\n",
       "      <td>2</td>\n",
       "      <td>3</td>\n",
       "      <td>1</td>\n",
       "      <td>1</td>\n",
       "      <td>4</td>\n",
       "      <td>3</td>\n",
       "      <td>3</td>\n",
       "    </tr>\n",
       "    <tr>\n",
       "      <th>2_2</th>\n",
       "      <td>2</td>\n",
       "      <td>2</td>\n",
       "      <td>3</td>\n",
       "      <td>2</td>\n",
       "      <td>4</td>\n",
       "      <td>3</td>\n",
       "      <td>2</td>\n",
       "      <td>4</td>\n",
       "    </tr>\n",
       "    <tr>\n",
       "      <th>3_3</th>\n",
       "      <td>2</td>\n",
       "      <td>3</td>\n",
       "      <td>3</td>\n",
       "      <td>3</td>\n",
       "      <td>4</td>\n",
       "      <td>3</td>\n",
       "      <td>2</td>\n",
       "      <td>2</td>\n",
       "    </tr>\n",
       "    <tr>\n",
       "      <th>4_3</th>\n",
       "      <td>3</td>\n",
       "      <td>3</td>\n",
       "      <td>3</td>\n",
       "      <td>3</td>\n",
       "      <td>2</td>\n",
       "      <td>2</td>\n",
       "      <td>3</td>\n",
       "      <td>2</td>\n",
       "    </tr>\n",
       "  </tbody>\n",
       "</table>\n",
       "</div>"
      ],
      "text/plain": [
       "     01_toilet  02_curbs  03_car  04_bed  05_heavy_door  06_errands  \\\n",
       "0_0          3         3       3       3              3           3   \n",
       "1_1          1         2       3       1              1           4   \n",
       "2_2          2         2       3       2              4           3   \n",
       "3_3          2         3       3       3              4           3   \n",
       "4_3          3         3       3       3              2           2   \n",
       "\n",
       "     07_off_floor  08_walk  \n",
       "0_0             3        3  \n",
       "1_1             3        3  \n",
       "2_2             2        4  \n",
       "3_3             2        2  \n",
       "4_3             3        2  "
      ]
     },
     "execution_count": 10,
     "metadata": {},
     "output_type": "execute_result"
    }
   ],
   "source": [
    "## FYI - the following values are reversed (5 -> 1, 1 -> 5) \n",
    "## Just for demo purposes\n",
    "nQOL_lowExt.iloc[:, 11:19].head()"
   ]
  },
  {
   "cell_type": "markdown",
   "metadata": {},
   "source": [
    "#### 2. Generate raw scores"
   ]
  },
  {
   "cell_type": "code",
   "execution_count": 11,
   "metadata": {},
   "outputs": [
    {
     "data": {
      "text/plain": [
       "<matplotlib.axes._subplots.AxesSubplot at 0x120ba38d0>"
      ]
     },
     "execution_count": 11,
     "metadata": {},
     "output_type": "execute_result"
    },
    {
     "data": {
      "image/png": "[encoded data removed]",
      "text/plain": [
       "<Figure size 432x288 with 1 Axes>"
      ]
     },
     "metadata": {
      "needs_background": "light"
     },
     "output_type": "display_data"
    }
   ],
   "source": [
    "nQOL_lowExt['Raw Score'] = nQOL_lowExt.iloc[:, 11:19].sum(axis=1)\n",
    "nQOL_lowExt['Raw Score'].hist()"
   ]
  },
  {
   "cell_type": "markdown",
   "metadata": {},
   "source": [
    "#### 3. Generate T scores"
   ]
  },
  {
   "cell_type": "code",
   "execution_count": 12,
   "metadata": {},
   "outputs": [
    {
     "data": {
      "text/html": [
       "<div>\n",
       "<style scoped>\n",
       "    .dataframe tbody tr th:only-of-type {\n",
       "        vertical-align: middle;\n",
       "    }\n",
       "\n",
       "    .dataframe tbody tr th {\n",
       "        vertical-align: top;\n",
       "    }\n",
       "\n",
       "    .dataframe thead th {\n",
       "        text-align: right;\n",
       "    }\n",
       "</style>\n",
       "<table border=\"1\" class=\"dataframe\">\n",
       "  <thead>\n",
       "    <tr style=\"text-align: right;\">\n",
       "      <th></th>\n",
       "      <th>Raw Score</th>\n",
       "      <th>T-Score</th>\n",
       "      <th>SE</th>\n",
       "    </tr>\n",
       "  </thead>\n",
       "  <tbody>\n",
       "    <tr>\n",
       "      <th>0</th>\n",
       "      <td>8</td>\n",
       "      <td>16.5</td>\n",
       "      <td>3.0</td>\n",
       "    </tr>\n",
       "    <tr>\n",
       "      <th>1</th>\n",
       "      <td>9</td>\n",
       "      <td>19.2</td>\n",
       "      <td>2.8</td>\n",
       "    </tr>\n",
       "    <tr>\n",
       "      <th>2</th>\n",
       "      <td>10</td>\n",
       "      <td>21.1</td>\n",
       "      <td>2.6</td>\n",
       "    </tr>\n",
       "    <tr>\n",
       "      <th>3</th>\n",
       "      <td>11</td>\n",
       "      <td>22.6</td>\n",
       "      <td>2.4</td>\n",
       "    </tr>\n",
       "    <tr>\n",
       "      <th>4</th>\n",
       "      <td>12</td>\n",
       "      <td>23.9</td>\n",
       "      <td>2.3</td>\n",
       "    </tr>\n",
       "  </tbody>\n",
       "</table>\n",
       "</div>"
      ],
      "text/plain": [
       "   Raw Score  T-Score   SE\n",
       "0          8     16.5  3.0\n",
       "1          9     19.2  2.8\n",
       "2         10     21.1  2.6\n",
       "3         11     22.6  2.4\n",
       "4         12     23.9  2.3"
      ]
     },
     "execution_count": 12,
     "metadata": {},
     "output_type": "execute_result"
    }
   ],
   "source": [
    "import pandas as pd\n",
    "tScores = pd.read_csv(syn.get('syn11223833').path)\n",
    "tScores.head()"
   ]
  },
  {
   "cell_type": "code",
   "execution_count": 13,
   "metadata": {},
   "outputs": [],
   "source": [
    "nQOL_lowExt_scored = nQOL_lowExt.set_index('Raw Score').join(tScores.set_index('Raw Score')).reset_index()"
   ]
  },
  {
   "cell_type": "code",
   "execution_count": 16,
   "metadata": {},
   "outputs": [
    {
     "data": {
      "text/plain": [
       "<matplotlib.axes._subplots.AxesSubplot at 0x1215e7080>"
      ]
     },
     "execution_count": 16,
     "metadata": {},
     "output_type": "execute_result"
    },
    {
     "data": {
      "image/png": "[encoded data removed]",
      "text/plain": [
       "<Figure size 432x288 with 1 Axes>"
      ]
     },
     "metadata": {
      "needs_background": "light"
     },
     "output_type": "display_data"
    }
   ],
   "source": [
    "nQOL_lowExt_scored['T-Score'].hist()"
   ]
  }
 ],
 "metadata": {
  "kernelspec": {
   "display_name": "Python 3",
   "language": "python",
   "name": "python3"
  },
  "language_info": {
   "codemirror_mode": {
    "name": "ipython",
    "version": 3
   },
   "file_extension": ".py",
   "mimetype": "text/x-python",
   "name": "python",
   "nbconvert_exporter": "python",
   "pygments_lexer": "ipython3",
   "version": "3.6.7"
  }
 },
 "nbformat": 4,
 "nbformat_minor": 2
}
